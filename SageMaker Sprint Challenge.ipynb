{
 "cells": [
  {
   "cell_type": "code",
   "execution_count": 1,
   "metadata": {},
   "outputs": [],
   "source": [
    "import dask.dataframe as dd\n",
    "from dask.distributed import Client"
   ]
  },
  {
   "cell_type": "code",
   "execution_count": 3,
   "metadata": {},
   "outputs": [],
   "source": [
    "df = dd.read_csv('Youtube*.csv')"
   ]
  },
  {
   "cell_type": "code",
   "execution_count": 4,
   "metadata": {},
   "outputs": [
    {
     "data": {
      "text/html": [
       "<div>\n",
       "<style scoped>\n",
       "    .dataframe tbody tr th:only-of-type {\n",
       "        vertical-align: middle;\n",
       "    }\n",
       "\n",
       "    .dataframe tbody tr th {\n",
       "        vertical-align: top;\n",
       "    }\n",
       "\n",
       "    .dataframe thead th {\n",
       "        text-align: right;\n",
       "    }\n",
       "</style>\n",
       "<table border=\"1\" class=\"dataframe\">\n",
       "  <thead>\n",
       "    <tr style=\"text-align: right;\">\n",
       "      <th></th>\n",
       "      <th>COMMENT_ID</th>\n",
       "      <th>AUTHOR</th>\n",
       "      <th>DATE</th>\n",
       "      <th>CONTENT</th>\n",
       "      <th>CLASS</th>\n",
       "    </tr>\n",
       "  </thead>\n",
       "  <tbody>\n",
       "    <tr>\n",
       "      <th>0</th>\n",
       "      <td>LZQPQhLyRh80UYxNuaDWhIGQYNQ96IuCg-AYWqNPjpU</td>\n",
       "      <td>Julius NM</td>\n",
       "      <td>2013-11-07T06:20:48</td>\n",
       "      <td>Huh, anyway check out this you[tube] channel: ...</td>\n",
       "      <td>1</td>\n",
       "    </tr>\n",
       "    <tr>\n",
       "      <th>1</th>\n",
       "      <td>LZQPQhLyRh_C2cTtd9MvFRJedxydaVW-2sNg5Diuo4A</td>\n",
       "      <td>adam riyati</td>\n",
       "      <td>2013-11-07T12:37:15</td>\n",
       "      <td>Hey guys check out my new channel and our firs...</td>\n",
       "      <td>1</td>\n",
       "    </tr>\n",
       "    <tr>\n",
       "      <th>2</th>\n",
       "      <td>LZQPQhLyRh9MSZYnf8djyk0gEF9BHDPYrrK-qCczIY8</td>\n",
       "      <td>Evgeny Murashkin</td>\n",
       "      <td>2013-11-08T17:34:21</td>\n",
       "      <td>just for test I have to say murdev.com</td>\n",
       "      <td>1</td>\n",
       "    </tr>\n",
       "    <tr>\n",
       "      <th>3</th>\n",
       "      <td>z13jhp0bxqncu512g22wvzkasxmvvzjaz04</td>\n",
       "      <td>ElNino Melendez</td>\n",
       "      <td>2013-11-09T08:28:43</td>\n",
       "      <td>me shaking my sexy ass on my channel enjoy ^_^ ﻿</td>\n",
       "      <td>1</td>\n",
       "    </tr>\n",
       "    <tr>\n",
       "      <th>4</th>\n",
       "      <td>z13fwbwp1oujthgqj04chlngpvzmtt3r3dw</td>\n",
       "      <td>GsMega</td>\n",
       "      <td>2013-11-10T16:05:38</td>\n",
       "      <td>watch?v=vtaRGgvGtWQ   Check this out .﻿</td>\n",
       "      <td>1</td>\n",
       "    </tr>\n",
       "  </tbody>\n",
       "</table>\n",
       "</div>"
      ],
      "text/plain": [
       "                                    COMMENT_ID            AUTHOR  \\\n",
       "0  LZQPQhLyRh80UYxNuaDWhIGQYNQ96IuCg-AYWqNPjpU         Julius NM   \n",
       "1  LZQPQhLyRh_C2cTtd9MvFRJedxydaVW-2sNg5Diuo4A       adam riyati   \n",
       "2  LZQPQhLyRh9MSZYnf8djyk0gEF9BHDPYrrK-qCczIY8  Evgeny Murashkin   \n",
       "3          z13jhp0bxqncu512g22wvzkasxmvvzjaz04   ElNino Melendez   \n",
       "4          z13fwbwp1oujthgqj04chlngpvzmtt3r3dw            GsMega   \n",
       "\n",
       "                  DATE                                            CONTENT  \\\n",
       "0  2013-11-07T06:20:48  Huh, anyway check out this you[tube] channel: ...   \n",
       "1  2013-11-07T12:37:15  Hey guys check out my new channel and our firs...   \n",
       "2  2013-11-08T17:34:21             just for test I have to say murdev.com   \n",
       "3  2013-11-09T08:28:43   me shaking my sexy ass on my channel enjoy ^_^ ﻿   \n",
       "4  2013-11-10T16:05:38            watch?v=vtaRGgvGtWQ   Check this out .﻿   \n",
       "\n",
       "   CLASS  \n",
       "0      1  \n",
       "1      1  \n",
       "2      1  \n",
       "3      1  \n",
       "4      1  "
      ]
     },
     "execution_count": 4,
     "metadata": {},
     "output_type": "execute_result"
    }
   ],
   "source": [
    "df.head()"
   ]
  },
  {
   "cell_type": "code",
   "execution_count": 5,
   "metadata": {},
   "outputs": [
    {
     "data": {
      "text/plain": [
       "(Delayed('int-dc9e692d-09df-48b9-89f5-d42ccac4618c'), 5)"
      ]
     },
     "execution_count": 5,
     "metadata": {},
     "output_type": "execute_result"
    }
   ],
   "source": [
    "df.shape"
   ]
  },
  {
   "cell_type": "code",
   "execution_count": 6,
   "metadata": {},
   "outputs": [
    {
     "data": {
      "text/html": [
       "<div>\n",
       "<style scoped>\n",
       "    .dataframe tbody tr th:only-of-type {\n",
       "        vertical-align: middle;\n",
       "    }\n",
       "\n",
       "    .dataframe tbody tr th {\n",
       "        vertical-align: top;\n",
       "    }\n",
       "\n",
       "    .dataframe thead th {\n",
       "        text-align: right;\n",
       "    }\n",
       "</style>\n",
       "<table border=\"1\" class=\"dataframe\">\n",
       "  <thead>\n",
       "    <tr style=\"text-align: right;\">\n",
       "      <th></th>\n",
       "      <th>COMMENT_ID</th>\n",
       "      <th>AUTHOR</th>\n",
       "      <th>DATE</th>\n",
       "      <th>CONTENT</th>\n",
       "      <th>CLASS</th>\n",
       "    </tr>\n",
       "  </thead>\n",
       "  <tbody>\n",
       "    <tr>\n",
       "      <th>0</th>\n",
       "      <td>LZQPQhLyRh80UYxNuaDWhIGQYNQ96IuCg-AYWqNPjpU</td>\n",
       "      <td>Julius NM</td>\n",
       "      <td>2013-11-07T06:20:48</td>\n",
       "      <td>Huh, anyway check out this you[tube] channel: ...</td>\n",
       "      <td>1</td>\n",
       "    </tr>\n",
       "    <tr>\n",
       "      <th>1</th>\n",
       "      <td>LZQPQhLyRh_C2cTtd9MvFRJedxydaVW-2sNg5Diuo4A</td>\n",
       "      <td>adam riyati</td>\n",
       "      <td>2013-11-07T12:37:15</td>\n",
       "      <td>Hey guys check out my new channel and our firs...</td>\n",
       "      <td>1</td>\n",
       "    </tr>\n",
       "    <tr>\n",
       "      <th>2</th>\n",
       "      <td>LZQPQhLyRh9MSZYnf8djyk0gEF9BHDPYrrK-qCczIY8</td>\n",
       "      <td>Evgeny Murashkin</td>\n",
       "      <td>2013-11-08T17:34:21</td>\n",
       "      <td>just for test I have to say murdev.com</td>\n",
       "      <td>1</td>\n",
       "    </tr>\n",
       "    <tr>\n",
       "      <th>3</th>\n",
       "      <td>z13jhp0bxqncu512g22wvzkasxmvvzjaz04</td>\n",
       "      <td>ElNino Melendez</td>\n",
       "      <td>2013-11-09T08:28:43</td>\n",
       "      <td>me shaking my sexy ass on my channel enjoy ^_^ ﻿</td>\n",
       "      <td>1</td>\n",
       "    </tr>\n",
       "    <tr>\n",
       "      <th>4</th>\n",
       "      <td>z13fwbwp1oujthgqj04chlngpvzmtt3r3dw</td>\n",
       "      <td>GsMega</td>\n",
       "      <td>2013-11-10T16:05:38</td>\n",
       "      <td>watch?v=vtaRGgvGtWQ   Check this out .﻿</td>\n",
       "      <td>1</td>\n",
       "    </tr>\n",
       "    <tr>\n",
       "      <th>5</th>\n",
       "      <td>LZQPQhLyRh9-wNRtlZDM90f1k0BrdVdJyN_YsaSwfxc</td>\n",
       "      <td>Jason Haddad</td>\n",
       "      <td>2013-11-26T02:55:11</td>\n",
       "      <td>Hey, check out my new website!! This site is a...</td>\n",
       "      <td>1</td>\n",
       "    </tr>\n",
       "    <tr>\n",
       "      <th>6</th>\n",
       "      <td>z13lfzdo5vmdi1cm123te5uz2mqig1brz04</td>\n",
       "      <td>ferleck ferles</td>\n",
       "      <td>2013-11-27T21:39:24</td>\n",
       "      <td>Subscribe to my channel ﻿</td>\n",
       "      <td>1</td>\n",
       "    </tr>\n",
       "    <tr>\n",
       "      <th>7</th>\n",
       "      <td>z122wfnzgt30fhubn04cdn3xfx2mxzngsl40k</td>\n",
       "      <td>Bob Kanowski</td>\n",
       "      <td>2013-11-28T12:33:27</td>\n",
       "      <td>i turned it on mute as soon is i came on i jus...</td>\n",
       "      <td>0</td>\n",
       "    </tr>\n",
       "    <tr>\n",
       "      <th>8</th>\n",
       "      <td>z13ttt1jcraqexk2o234ghbgzxymz1zzi04</td>\n",
       "      <td>Cony</td>\n",
       "      <td>2013-11-28T16:01:47</td>\n",
       "      <td>You should check my channel for Funny VIDEOS!!﻿</td>\n",
       "      <td>1</td>\n",
       "    </tr>\n",
       "    <tr>\n",
       "      <th>9</th>\n",
       "      <td>z12avveb4xqiirsix04chxviiljryduwxg0</td>\n",
       "      <td>BeBe Burkey</td>\n",
       "      <td>2013-11-28T16:30:13</td>\n",
       "      <td>and u should.d check my channel and tell me wh...</td>\n",
       "      <td>1</td>\n",
       "    </tr>\n",
       "    <tr>\n",
       "      <th>10</th>\n",
       "      <td>z13auhww3oufjn1qo04ci3grqqjmfjexxuo0k</td>\n",
       "      <td>Huckyduck</td>\n",
       "      <td>2013-11-28T17:06:17</td>\n",
       "      <td>Hey subscribe to me﻿</td>\n",
       "      <td>1</td>\n",
       "    </tr>\n",
       "    <tr>\n",
       "      <th>11</th>\n",
       "      <td>z13xit5agm2zyh4f523rst2gowmbx5bml</td>\n",
       "      <td>Lone Twistt</td>\n",
       "      <td>2013-11-28T17:34:55</td>\n",
       "      <td>Once you have started reading do not stop. If...</td>\n",
       "      <td>1</td>\n",
       "    </tr>\n",
       "    <tr>\n",
       "      <th>12</th>\n",
       "      <td>z13pejoiuozwxtdu323dspopnri4xts0f</td>\n",
       "      <td>Archie Lewis</td>\n",
       "      <td>2013-11-28T17:54:39</td>\n",
       "      <td>https://twitter.com/GBphotographyGB﻿</td>\n",
       "      <td>1</td>\n",
       "    </tr>\n",
       "    <tr>\n",
       "      <th>13</th>\n",
       "      <td>z121zxaxsq25z5k5o04ch1o5jqqfij3gtm40k</td>\n",
       "      <td>TheUploadaddict</td>\n",
       "      <td>2013-11-28T18:12:12</td>\n",
       "      <td>subscribe like comment﻿</td>\n",
       "      <td>1</td>\n",
       "    </tr>\n",
       "    <tr>\n",
       "      <th>14</th>\n",
       "      <td>z12oglnpoq3gjh4om04cfdlbgp2uepyytpw0k</td>\n",
       "      <td>Francisco Nora</td>\n",
       "      <td>2013-11-28T19:52:35</td>\n",
       "      <td>please like :D https://premium.easypromosapp.c...</td>\n",
       "      <td>1</td>\n",
       "    </tr>\n",
       "    <tr>\n",
       "      <th>15</th>\n",
       "      <td>z13phrmwrkfisn5er22eyrbpbvaiwfvwf04</td>\n",
       "      <td>Gaming and Stuff PRO</td>\n",
       "      <td>2013-11-28T21:14:13</td>\n",
       "      <td>Hello! Do you like gaming, art videos, scienti...</td>\n",
       "      <td>1</td>\n",
       "    </tr>\n",
       "    <tr>\n",
       "      <th>16</th>\n",
       "      <td>z13bgdvyluihfv11i22rgxwhuvabzz1os04</td>\n",
       "      <td>Zielimeek21</td>\n",
       "      <td>2013-11-28T21:49:00</td>\n",
       "      <td>I'm only checking the views﻿</td>\n",
       "      <td>0</td>\n",
       "    </tr>\n",
       "    <tr>\n",
       "      <th>17</th>\n",
       "      <td>z13vxpnoxsyeuv2jr04cctprprb1slnxdf4</td>\n",
       "      <td>OutrightIgnite</td>\n",
       "      <td>2013-11-28T21:55:02</td>\n",
       "      <td>http://www.ebay.com/itm/171183229277?ssPageNam...</td>\n",
       "      <td>1</td>\n",
       "    </tr>\n",
       "    <tr>\n",
       "      <th>18</th>\n",
       "      <td>z12qth5j0ob1fx3q404chvy4fz32tbkpllk0k</td>\n",
       "      <td>Tony K Frazier</td>\n",
       "      <td>2013-11-28T23:57:13</td>\n",
       "      <td>http://ubuntuone.com/40beUutVu2ZKxK4uTgPZ8K﻿</td>\n",
       "      <td>1</td>\n",
       "    </tr>\n",
       "    <tr>\n",
       "      <th>19</th>\n",
       "      <td>z13etj0bclzfztuwc04cgfvrgmf3fvjor1g</td>\n",
       "      <td>Jose Renteria</td>\n",
       "      <td>2013-11-29T00:22:01</td>\n",
       "      <td>We are an EDM apparel company dedicated to bri...</td>\n",
       "      <td>1</td>\n",
       "    </tr>\n",
       "  </tbody>\n",
       "</table>\n",
       "</div>"
      ],
      "text/plain": [
       "                                     COMMENT_ID                AUTHOR  \\\n",
       "0   LZQPQhLyRh80UYxNuaDWhIGQYNQ96IuCg-AYWqNPjpU             Julius NM   \n",
       "1   LZQPQhLyRh_C2cTtd9MvFRJedxydaVW-2sNg5Diuo4A           adam riyati   \n",
       "2   LZQPQhLyRh9MSZYnf8djyk0gEF9BHDPYrrK-qCczIY8      Evgeny Murashkin   \n",
       "3           z13jhp0bxqncu512g22wvzkasxmvvzjaz04       ElNino Melendez   \n",
       "4           z13fwbwp1oujthgqj04chlngpvzmtt3r3dw                GsMega   \n",
       "5   LZQPQhLyRh9-wNRtlZDM90f1k0BrdVdJyN_YsaSwfxc          Jason Haddad   \n",
       "6           z13lfzdo5vmdi1cm123te5uz2mqig1brz04        ferleck ferles   \n",
       "7         z122wfnzgt30fhubn04cdn3xfx2mxzngsl40k          Bob Kanowski   \n",
       "8           z13ttt1jcraqexk2o234ghbgzxymz1zzi04                  Cony   \n",
       "9           z12avveb4xqiirsix04chxviiljryduwxg0           BeBe Burkey   \n",
       "10        z13auhww3oufjn1qo04ci3grqqjmfjexxuo0k             Huckyduck   \n",
       "11            z13xit5agm2zyh4f523rst2gowmbx5bml           Lone Twistt   \n",
       "12            z13pejoiuozwxtdu323dspopnri4xts0f          Archie Lewis   \n",
       "13        z121zxaxsq25z5k5o04ch1o5jqqfij3gtm40k       TheUploadaddict   \n",
       "14        z12oglnpoq3gjh4om04cfdlbgp2uepyytpw0k        Francisco Nora   \n",
       "15          z13phrmwrkfisn5er22eyrbpbvaiwfvwf04  Gaming and Stuff PRO   \n",
       "16          z13bgdvyluihfv11i22rgxwhuvabzz1os04           Zielimeek21   \n",
       "17          z13vxpnoxsyeuv2jr04cctprprb1slnxdf4        OutrightIgnite   \n",
       "18        z12qth5j0ob1fx3q404chvy4fz32tbkpllk0k        Tony K Frazier   \n",
       "19          z13etj0bclzfztuwc04cgfvrgmf3fvjor1g         Jose Renteria   \n",
       "\n",
       "                   DATE                                            CONTENT  \\\n",
       "0   2013-11-07T06:20:48  Huh, anyway check out this you[tube] channel: ...   \n",
       "1   2013-11-07T12:37:15  Hey guys check out my new channel and our firs...   \n",
       "2   2013-11-08T17:34:21             just for test I have to say murdev.com   \n",
       "3   2013-11-09T08:28:43   me shaking my sexy ass on my channel enjoy ^_^ ﻿   \n",
       "4   2013-11-10T16:05:38            watch?v=vtaRGgvGtWQ   Check this out .﻿   \n",
       "5   2013-11-26T02:55:11  Hey, check out my new website!! This site is a...   \n",
       "6   2013-11-27T21:39:24                          Subscribe to my channel ﻿   \n",
       "7   2013-11-28T12:33:27  i turned it on mute as soon is i came on i jus...   \n",
       "8   2013-11-28T16:01:47    You should check my channel for Funny VIDEOS!!﻿   \n",
       "9   2013-11-28T16:30:13  and u should.d check my channel and tell me wh...   \n",
       "10  2013-11-28T17:06:17                               Hey subscribe to me﻿   \n",
       "11  2013-11-28T17:34:55   Once you have started reading do not stop. If...   \n",
       "12  2013-11-28T17:54:39               https://twitter.com/GBphotographyGB﻿   \n",
       "13  2013-11-28T18:12:12                            subscribe like comment﻿   \n",
       "14  2013-11-28T19:52:35  please like :D https://premium.easypromosapp.c...   \n",
       "15  2013-11-28T21:14:13  Hello! Do you like gaming, art videos, scienti...   \n",
       "16  2013-11-28T21:49:00                       I'm only checking the views﻿   \n",
       "17  2013-11-28T21:55:02  http://www.ebay.com/itm/171183229277?ssPageNam...   \n",
       "18  2013-11-28T23:57:13       http://ubuntuone.com/40beUutVu2ZKxK4uTgPZ8K﻿   \n",
       "19  2013-11-29T00:22:01  We are an EDM apparel company dedicated to bri...   \n",
       "\n",
       "    CLASS  \n",
       "0       1  \n",
       "1       1  \n",
       "2       1  \n",
       "3       1  \n",
       "4       1  \n",
       "5       1  \n",
       "6       1  \n",
       "7       0  \n",
       "8       1  \n",
       "9       1  \n",
       "10      1  \n",
       "11      1  \n",
       "12      1  \n",
       "13      1  \n",
       "14      1  \n",
       "15      1  \n",
       "16      0  \n",
       "17      1  \n",
       "18      1  \n",
       "19      1  "
      ]
     },
     "execution_count": 6,
     "metadata": {},
     "output_type": "execute_result"
    }
   ],
   "source": [
    "df.head(20)"
   ]
  },
  {
   "cell_type": "code",
   "execution_count": 14,
   "metadata": {},
   "outputs": [
    {
     "data": {
      "text/plain": [
       "1    1005\n",
       "0     951\n",
       "Name: CLASS, dtype: int64"
      ]
     },
     "execution_count": 14,
     "metadata": {},
     "output_type": "execute_result"
    }
   ],
   "source": [
    "df['CLASS'].value_counts().compute()"
   ]
  },
  {
   "cell_type": "code",
   "execution_count": 19,
   "metadata": {},
   "outputs": [],
   "source": [
    "df['Content_lower'] = df['CONTENT'].str.lower()"
   ]
  },
  {
   "cell_type": "code",
   "execution_count": 20,
   "metadata": {},
   "outputs": [
    {
     "data": {
      "text/plain": [
       "Dask Series Structure:\n",
       "npartitions=5\n",
       "    object\n",
       "       ...\n",
       "     ...  \n",
       "       ...\n",
       "       ...\n",
       "Name: Content_lower, dtype: object\n",
       "Dask Name: getitem, 35 tasks"
      ]
     },
     "execution_count": 20,
     "metadata": {},
     "output_type": "execute_result"
    }
   ],
   "source": [
    "df['Content_lower']"
   ]
  },
  {
   "cell_type": "code",
   "execution_count": 21,
   "metadata": {},
   "outputs": [
    {
     "data": {
      "text/plain": [
       "0    huh, anyway check out this you[tube] channel: ...\n",
       "1    hey guys check out my new channel and our firs...\n",
       "2               just for test i have to say murdev.com\n",
       "3     me shaking my sexy ass on my channel enjoy ^_^ ﻿\n",
       "4              watch?v=vtarggvgtwq   check this out .﻿\n",
       "Name: Content_lower, dtype: object"
      ]
     },
     "execution_count": 21,
     "metadata": {},
     "output_type": "execute_result"
    }
   ],
   "source": [
    "df['Content_lower'].head()"
   ]
  },
  {
   "cell_type": "code",
   "execution_count": 22,
   "metadata": {},
   "outputs": [
    {
     "data": {
      "text/plain": [
       "False    1751\n",
       "True      205\n",
       "Name: CONTENT, dtype: int64"
      ]
     },
     "execution_count": 22,
     "metadata": {},
     "output_type": "execute_result"
    }
   ],
   "source": [
    "df['CONTENT'].str.contains('check').value_counts().compute()"
   ]
  },
  {
   "cell_type": "code",
   "execution_count": 27,
   "metadata": {},
   "outputs": [],
   "source": [
    "df_spam = df[df['CLASS'] == 1]"
   ]
  },
  {
   "cell_type": "code",
   "execution_count": 30,
   "metadata": {},
   "outputs": [],
   "source": [
    "df_not_spam = df[df['CLASS'] == 0]"
   ]
  },
  {
   "cell_type": "code",
   "execution_count": 28,
   "metadata": {},
   "outputs": [
    {
     "data": {
      "text/plain": [
       "False    819\n",
       "True     186\n",
       "Name: CONTENT, dtype: int64"
      ]
     },
     "execution_count": 28,
     "metadata": {},
     "output_type": "execute_result"
    }
   ],
   "source": [
    "df_spam['CONTENT'].str.contains('check').value_counts().compute()"
   ]
  },
  {
   "cell_type": "code",
   "execution_count": 31,
   "metadata": {},
   "outputs": [
    {
     "data": {
      "text/plain": [
       "False    932\n",
       "True      19\n",
       "Name: CONTENT, dtype: int64"
      ]
     },
     "execution_count": 31,
     "metadata": {},
     "output_type": "execute_result"
    }
   ],
   "source": [
    "df_not_spam['CONTENT'].str.contains('check').value_counts().compute()"
   ]
  },
  {
   "cell_type": "markdown",
   "metadata": {},
   "source": [
    "#Distributed and concurrent programming frameworks can be exceedingly helpful in constructing data science or artificial intelligence systems. With the advent of public cloud computing, there are a number of useful public cloud products available, including AWS Sagemaker and AWS EMR. One of the major virtues of the public cloud is virtualized access to powerful hardware, of which one can make multiple instances.\n",
    "\n",
    "Of these AWS products, EMR is mostly a cluster management platform, simplifying the use of open-source frameworks such as Hadoop, Spark, Hive, and Pig. Sagemaker, by contrast, is meant to simplify much of the infrastructure involved in creating a data science environment. They can be utilized together; for example, one can run Spark in Sagemaker, using Amazon EMR as the underlying cluster management tool manipulated through the Sagemaker instance. In either case, one has potential access to high end commodity hardware at a fractionated or amortized cost. \n",
    "\n",
    "Databricks also has a public cloud interface, but specalizes in implementation of Spark, which is an in-memory distributed compute framework written in Scala. Scala is an excellent language for data processing, since it is strongly and statically typed, allowing for considerably greater speed than Python, in addition to its ability to communicate with the Java virtual machine, which in turn makes it suitable for interaction with much open-source software (not necessarily true of a similar language such as OCaml). \n",
    "\n",
    "All of these frameworks, which give access to high quality virtualized compute, are exceedingly helpful for managing large data sets; frameworks such as Spark are doubly useful because they distribute the data and process at in-memory speeds. There are other frameworks which help accelerate the processing of data as well. Numba will compile initial function calls, making future calls faster; Dask gives access to a series of task schedulers for parallel computing. \n",
    "\n",
    "\n",
    "\n"
   ]
  }
 ],
 "metadata": {
  "kernelspec": {
   "display_name": "conda_python3",
   "language": "python",
   "name": "conda_python3"
  },
  "language_info": {
   "codemirror_mode": {
    "name": "ipython",
    "version": 3
   },
   "file_extension": ".py",
   "mimetype": "text/x-python",
   "name": "python",
   "nbconvert_exporter": "python",
   "pygments_lexer": "ipython3",
   "version": "3.6.5"
  }
 },
 "nbformat": 4,
 "nbformat_minor": 2
}
